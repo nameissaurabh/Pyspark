{
 "cells": [
  {
   "cell_type": "markdown",
   "id": "5e13ff2b-af76-43f1-ad99-ffac5028e4e3",
   "metadata": {},
   "source": [
    "## *Introduction To Pyspark*"
   ]
  },
  {
   "cell_type": "markdown",
   "id": "5270a46e-d8c4-4d08-be95-09b19d314116",
   "metadata": {},
   "source": [
    "<img src=\"lets_go.gif\" width=\"250\" height=\"150\">  \n",
    "v>"
   ]
  },
  {
   "cell_type": "markdown",
   "id": "2bec9f89-8cb0-4e55-ab7e-69e1830393a6",
   "metadata": {},
   "source": [
    "#### *Why Pyspark?*\n",
    "#### Pandas :  \n",
    "  - Data manipulation and analysis  \n",
    "  - Single computer's memory usage  \n",
    "  - Easy-to-use data structures like DataFrames and Series  \n",
    "  - But When it comes to Big Data.....\n",
    "  - <img src=\"BigDatahumor.webp\" width=\"250\" height=\"150\">\n",
    "#### Pyspark :  \n",
    "  - Built on top of Apache Spark, designed for processing and analyzing large-scale datasets\n",
    "  - Similar PySpark's DataFrame API to Pandas  \n",
    "  - Python code that can be distributed and executed in parallel across a cluster of computers/GPU's or single computer CPU cores, Like an Naruto's Shadow Clone Jutsu  \n",
    "  - <img src=\"distr_comp.webp\" width=\"250\" height=\"150\">"
   ]
  },
  {
   "cell_type": "markdown",
   "id": "dfa25e30-ad5e-4e39-86d9-a825a7197c88",
   "metadata": {},
   "source": [
    "##### *What is Pysprak?*\n",
    "*PySpark is the Python API for Apache Spark, an open source, distributed computing framework and set of libraries for real-time, large-scale data processing.*  \n",
    "<img src=\"kehna_kya_chahte_hogif.gif\" width=\"300\" height=\"200\">"
   ]
  },
  {
   "cell_type": "markdown",
   "id": "97d23fa6-674c-4acb-984d-9a28b056c6a5",
   "metadata": {},
   "source": [
    "### *Let's Dive in to Practical Thing!!*"
   ]
  },
  {
   "cell_type": "markdown",
   "id": "5dec73c2-171a-480e-826a-98d33ce22c4a",
   "metadata": {},
   "source": [
    "<img src=\"all_right_be_practical.gif\" width=\"300\" height=\"200\">"
   ]
  },
  {
   "cell_type": "markdown",
   "id": "673801fe-d5ce-48c5-aac4-afb38fd88581",
   "metadata": {},
   "source": [
    "#### *Data Reading Comparison*"
   ]
  },
  {
   "cell_type": "code",
   "execution_count": 1,
   "id": "4d0aab30-5880-426e-bc11-a117497150b8",
   "metadata": {},
   "outputs": [
    {
     "name": "stderr",
     "output_type": "stream",
     "text": [
      "C:\\Users\\User\\AppData\\Local\\Programs\\Python\\Python311\\Lib\\site-packages\\pyspark\\pandas\\__init__.py:50: UserWarning: 'PYARROW_IGNORE_TIMEZONE' environment variable was not set. It is required to set this environment variable to '1' in both driver and executor sides if you use pyarrow>=2.0.0. pandas-on-Spark will set it for you but it does not work if there is a Spark context already launched.\n",
      "  warnings.warn(\n"
     ]
    }
   ],
   "source": [
    "# Import Libraries\n",
    "import pandas as pd\n",
    "import pyspark.pandas as ps\n",
    "from pyspark.sql import SparkSession\n",
    "import time\n",
    "import sys\n",
    "pd.set_option('display.max_columns', None)"
   ]
  },
  {
   "cell_type": "code",
   "execution_count": 2,
   "id": "68a9e4a2-6ea9-4b3b-859e-079a26c00746",
   "metadata": {},
   "outputs": [],
   "source": [
    "# Function to read CSV file using Pandas and measure time\n",
    "def read_csv_with_pandas(file_path):\n",
    "    start_time = time.time()\n",
    "    df = pd.read_csv(file_path, header = 0, sep = ',',low_memory = False,)\n",
    "    end_time = time.time()\n",
    "    #memory use in GB's\n",
    "    memory_use = sys.getsizeof(df)/(1024**3)\n",
    "    return df, end_time - start_time, memory_use"
   ]
  },
  {
   "cell_type": "code",
   "execution_count": 3,
   "id": "097ed6f4-a81c-45d9-81cc-cfba6af3a157",
   "metadata": {},
   "outputs": [
    {
     "name": "stdout",
     "output_type": "stream",
     "text": [
      "Pandas reading time: 30.387768030166626 seconds\n",
      "memory Used by Pandas: 1.5607366245239973 GB\n"
     ]
    }
   ],
   "source": [
    "# File path\n",
    "file_path = \"Fraud.csv/Fraud.csv\"\n",
    "\n",
    "# Read CSV file using Pandas\n",
    "pandas_df, pandas_time, pandas_memory = read_csv_with_pandas(file_path)\n",
    "print(\"Pandas reading time:\", pandas_time, \"seconds\")\n",
    "print(\"memory Used by Pandas:\",pandas_memory,\"GB\")"
   ]
  },
  {
   "cell_type": "markdown",
   "id": "5bb09637-e351-4ebd-941e-6105189d08e0",
   "metadata": {},
   "source": [
    "*Pandas' memory usage after reading data is like Joey piling up all the food on his plate at Thanksgiving dinner – it starts off reasonable, but by the end, it'll struggle to keep it all together!*  \n",
    "<img src=\"thanksgiving-day-turkey.gif\" width=\"300\" height=\"200\">"
   ]
  },
  {
   "cell_type": "code",
   "execution_count": 4,
   "id": "91e2fe9d-4243-4bce-8718-3571802fd6ac",
   "metadata": {},
   "outputs": [],
   "source": [
    "# first of all to start with pyspark we need to create pyspark sesion. \n",
    "spark = SparkSession.builder \\\n",
    "        .appName(\"ReadCSVWithPySpark\") \\\n",
    "        .getOrCreate()"
   ]
  },
  {
   "cell_type": "markdown",
   "id": "02da6ee3-8f25-4c39-bf1a-224ce2c4f73d",
   "metadata": {},
   "source": [
    "#### *Why to Create Pyspark Session?*"
   ]
  },
  {
   "cell_type": "markdown",
   "id": "d503cf69-b476-4ded-8bf8-08091d8e9201",
   "metadata": {},
   "source": [
    "<img src=\"creating pyspark session.webp\" width=\"300\" height=\"200\">"
   ]
  },
  {
   "cell_type": "markdown",
   "id": "24bb8d7c-cc52-4cf5-81c7-7a71408b115c",
   "metadata": {},
   "source": [
    "*Think of creating a PySpark session like summoning Megumi's shikigami hounds in 'Jujutsu Kaisen.' Just as Megumi calls upon his loyal companions to assist him in battle, creating a PySpark session summons your faithful connection to the Spark cluster. With this connection, you can command your PySpark hounds to create DataFrames, register them as tables, execute data jujutsu (SQL queries), cache tables for quick access, and even read files effortlessly.*"
   ]
  },
  {
   "cell_type": "code",
   "execution_count": 5,
   "id": "c100d8fc-bea5-4dde-a616-7b92a0cbe4cb",
   "metadata": {},
   "outputs": [],
   "source": [
    "# Function to read CSV file using PySpark and measure time\n",
    "def read_csv_with_pyspark(file_path):\n",
    "    start_time = time.time()\n",
    "    df = spark.read.csv(file_path, header=True, inferSchema=True)\n",
    "    end_time = time.time()\n",
    "    #memory use in GB's\n",
    "    memory_use = sys.getsizeof(df)/(1024**3)\n",
    "    return df, end_time - start_time, memory_use"
   ]
  },
  {
   "cell_type": "code",
   "execution_count": 6,
   "id": "c636dc9b-314f-4e7d-81cb-7fc17af81ee5",
   "metadata": {},
   "outputs": [
    {
     "name": "stdout",
     "output_type": "stream",
     "text": [
      "PySpark reading time: 28.72043251991272 seconds\n",
      "memory Used by Pyspark: 5.21540641784668e-08 GB\n"
     ]
    }
   ],
   "source": [
    "# Read CSV file using PySpark\n",
    "pyspark_df, pyspark_time, pyspark_memory = read_csv_with_pyspark(file_path)\n",
    "print(\"PySpark reading time:\", pyspark_time, \"seconds\")\n",
    "print(\"memory Used by Pyspark:\",pyspark_memory,\"GB\")"
   ]
  },
  {
   "cell_type": "code",
   "execution_count": 7,
   "id": "c3ff8846-e31d-4c12-a0bb-1d42204613a3",
   "metadata": {},
   "outputs": [
    {
     "data": {
      "text/html": [
       "<div>\n",
       "<style scoped>\n",
       "    .dataframe tbody tr th:only-of-type {\n",
       "        vertical-align: middle;\n",
       "    }\n",
       "\n",
       "    .dataframe tbody tr th {\n",
       "        vertical-align: top;\n",
       "    }\n",
       "\n",
       "    .dataframe thead th {\n",
       "        text-align: right;\n",
       "    }\n",
       "</style>\n",
       "<table border=\"1\" class=\"dataframe\">\n",
       "  <thead>\n",
       "    <tr style=\"text-align: right;\">\n",
       "      <th></th>\n",
       "      <th>step</th>\n",
       "      <th>amount</th>\n",
       "      <th>oldbalanceOrg</th>\n",
       "      <th>newbalanceOrig</th>\n",
       "      <th>oldbalanceDest</th>\n",
       "      <th>newbalanceDest</th>\n",
       "      <th>isFraud</th>\n",
       "      <th>isFlaggedFraud</th>\n",
       "    </tr>\n",
       "  </thead>\n",
       "  <tbody>\n",
       "    <tr>\n",
       "      <th>count</th>\n",
       "      <td>6.362620e+06</td>\n",
       "      <td>6.362620e+06</td>\n",
       "      <td>6.362620e+06</td>\n",
       "      <td>6.362620e+06</td>\n",
       "      <td>6.362620e+06</td>\n",
       "      <td>6.362620e+06</td>\n",
       "      <td>6.362620e+06</td>\n",
       "      <td>6.362620e+06</td>\n",
       "    </tr>\n",
       "    <tr>\n",
       "      <th>mean</th>\n",
       "      <td>2.433972e+02</td>\n",
       "      <td>1.798619e+05</td>\n",
       "      <td>8.338831e+05</td>\n",
       "      <td>8.551137e+05</td>\n",
       "      <td>1.100702e+06</td>\n",
       "      <td>1.224996e+06</td>\n",
       "      <td>1.290820e-03</td>\n",
       "      <td>2.514687e-06</td>\n",
       "    </tr>\n",
       "    <tr>\n",
       "      <th>std</th>\n",
       "      <td>1.423320e+02</td>\n",
       "      <td>6.038582e+05</td>\n",
       "      <td>2.888243e+06</td>\n",
       "      <td>2.924049e+06</td>\n",
       "      <td>3.399180e+06</td>\n",
       "      <td>3.674129e+06</td>\n",
       "      <td>3.590480e-02</td>\n",
       "      <td>1.585775e-03</td>\n",
       "    </tr>\n",
       "    <tr>\n",
       "      <th>min</th>\n",
       "      <td>1.000000e+00</td>\n",
       "      <td>0.000000e+00</td>\n",
       "      <td>0.000000e+00</td>\n",
       "      <td>0.000000e+00</td>\n",
       "      <td>0.000000e+00</td>\n",
       "      <td>0.000000e+00</td>\n",
       "      <td>0.000000e+00</td>\n",
       "      <td>0.000000e+00</td>\n",
       "    </tr>\n",
       "    <tr>\n",
       "      <th>25%</th>\n",
       "      <td>1.560000e+02</td>\n",
       "      <td>1.338957e+04</td>\n",
       "      <td>0.000000e+00</td>\n",
       "      <td>0.000000e+00</td>\n",
       "      <td>0.000000e+00</td>\n",
       "      <td>0.000000e+00</td>\n",
       "      <td>0.000000e+00</td>\n",
       "      <td>0.000000e+00</td>\n",
       "    </tr>\n",
       "    <tr>\n",
       "      <th>50%</th>\n",
       "      <td>2.390000e+02</td>\n",
       "      <td>7.487194e+04</td>\n",
       "      <td>1.420800e+04</td>\n",
       "      <td>0.000000e+00</td>\n",
       "      <td>1.327057e+05</td>\n",
       "      <td>2.146614e+05</td>\n",
       "      <td>0.000000e+00</td>\n",
       "      <td>0.000000e+00</td>\n",
       "    </tr>\n",
       "    <tr>\n",
       "      <th>75%</th>\n",
       "      <td>3.350000e+02</td>\n",
       "      <td>2.087215e+05</td>\n",
       "      <td>1.073152e+05</td>\n",
       "      <td>1.442584e+05</td>\n",
       "      <td>9.430367e+05</td>\n",
       "      <td>1.111909e+06</td>\n",
       "      <td>0.000000e+00</td>\n",
       "      <td>0.000000e+00</td>\n",
       "    </tr>\n",
       "    <tr>\n",
       "      <th>max</th>\n",
       "      <td>7.430000e+02</td>\n",
       "      <td>9.244552e+07</td>\n",
       "      <td>5.958504e+07</td>\n",
       "      <td>4.958504e+07</td>\n",
       "      <td>3.560159e+08</td>\n",
       "      <td>3.561793e+08</td>\n",
       "      <td>1.000000e+00</td>\n",
       "      <td>1.000000e+00</td>\n",
       "    </tr>\n",
       "  </tbody>\n",
       "</table>\n",
       "</div>"
      ],
      "text/plain": [
       "               step        amount  oldbalanceOrg  newbalanceOrig   \n",
       "count  6.362620e+06  6.362620e+06   6.362620e+06    6.362620e+06  \\\n",
       "mean   2.433972e+02  1.798619e+05   8.338831e+05    8.551137e+05   \n",
       "std    1.423320e+02  6.038582e+05   2.888243e+06    2.924049e+06   \n",
       "min    1.000000e+00  0.000000e+00   0.000000e+00    0.000000e+00   \n",
       "25%    1.560000e+02  1.338957e+04   0.000000e+00    0.000000e+00   \n",
       "50%    2.390000e+02  7.487194e+04   1.420800e+04    0.000000e+00   \n",
       "75%    3.350000e+02  2.087215e+05   1.073152e+05    1.442584e+05   \n",
       "max    7.430000e+02  9.244552e+07   5.958504e+07    4.958504e+07   \n",
       "\n",
       "       oldbalanceDest  newbalanceDest       isFraud  isFlaggedFraud  \n",
       "count    6.362620e+06    6.362620e+06  6.362620e+06    6.362620e+06  \n",
       "mean     1.100702e+06    1.224996e+06  1.290820e-03    2.514687e-06  \n",
       "std      3.399180e+06    3.674129e+06  3.590480e-02    1.585775e-03  \n",
       "min      0.000000e+00    0.000000e+00  0.000000e+00    0.000000e+00  \n",
       "25%      0.000000e+00    0.000000e+00  0.000000e+00    0.000000e+00  \n",
       "50%      1.327057e+05    2.146614e+05  0.000000e+00    0.000000e+00  \n",
       "75%      9.430367e+05    1.111909e+06  0.000000e+00    0.000000e+00  \n",
       "max      3.560159e+08    3.561793e+08  1.000000e+00    1.000000e+00  "
      ]
     },
     "execution_count": 7,
     "metadata": {},
     "output_type": "execute_result"
    }
   ],
   "source": [
    "# Variable storages\n",
    "describe_stat = pandas_df.describe()\n",
    "describe_stat"
   ]
  },
  {
   "cell_type": "markdown",
   "id": "d270529f-c7d7-4335-a805-0206002492d7",
   "metadata": {},
   "source": [
    "#### *Now memory for this variable again will get add up...*\n",
    "<img src=\"pandas_memory_use.gif\" width=\"300\" height=\"200\">"
   ]
  },
  {
   "cell_type": "code",
   "execution_count": 8,
   "id": "d3223f3d-f103-415e-b352-21c915909b76",
   "metadata": {},
   "outputs": [
    {
     "name": "stdout",
     "output_type": "stream",
     "text": [
      "Memory used by describe_stat Varibale for pandas (In bytes) : \n",
      "1027\n"
     ]
    }
   ],
   "source": [
    "print(\"Memory used by describe_stat Varibale for pandas (In bytes) : \")\n",
    "print(sys.getsizeof(describe_stat))"
   ]
  },
  {
   "cell_type": "code",
   "execution_count": 9,
   "id": "e7b933c1-1513-4a4b-b081-646f67902c37",
   "metadata": {},
   "outputs": [
    {
     "name": "stdout",
     "output_type": "stream",
     "text": [
      "+-------+------------------+--------+------------------+-----------+------------------+-----------------+-----------+------------------+------------------+--------------------+--------------------+\n",
      "|summary|              step|    type|            amount|   nameOrig|     oldbalanceOrg|   newbalanceOrig|   nameDest|    oldbalanceDest|    newbalanceDest|             isFraud|      isFlaggedFraud|\n",
      "+-------+------------------+--------+------------------+-----------+------------------+-----------------+-----------+------------------+------------------+--------------------+--------------------+\n",
      "|  count|           6362620| 6362620|           6362620|    6362620|           6362620|          6362620|    6362620|           6362620|           6362620|             6362620|             6362620|\n",
      "|   mean|243.39724563151657|    NULL|179861.90354913048|       NULL| 833883.1040744851|855113.6685785787|       NULL|1100701.6665196505|1224996.3982019336|0.001290820448180152| 2.51468734577894E-6|\n",
      "| stddev| 142.3319710491305|    NULL| 603858.2314629437|       NULL|2888242.6730375397|2924048.502954241|       NULL|3399180.1129944543|3674128.9421196654| 0.03590479680160438|0.001585774705736...|\n",
      "|    min|                 1| CASH_IN|               0.0|C1000000639|               0.0|              0.0|C1000004082|               0.0|               0.0|                   0|                   0|\n",
      "|    max|               743|TRANSFER|     9.244551664E7| C999999784|     5.958504037E7|    4.958504037E7| M999999784|    3.5601588935E8|    3.5617927892E8|                   1|                   1|\n",
      "+-------+------------------+--------+------------------+-----------+------------------+-----------------+-----------+------------------+------------------+--------------------+--------------------+\n",
      "\n",
      "None\n"
     ]
    }
   ],
   "source": [
    "describe_stat = pyspark_df.describe()\n",
    "print(describe_stat.show())"
   ]
  },
  {
   "cell_type": "code",
   "execution_count": 10,
   "id": "f8b645c9-63f2-4aa0-be03-03f401371b4a",
   "metadata": {},
   "outputs": [
    {
     "name": "stdout",
     "output_type": "stream",
     "text": [
      "-RECORD 0------------------------------\n",
      " summary        | count                \n",
      " step           | 6362620              \n",
      " type           | 6362620              \n",
      " amount         | 6362620              \n",
      " nameOrig       | 6362620              \n",
      " oldbalanceOrg  | 6362620              \n",
      " newbalanceOrig | 6362620              \n",
      " nameDest       | 6362620              \n",
      " oldbalanceDest | 6362620              \n",
      " newbalanceDest | 6362620              \n",
      " isFraud        | 6362620              \n",
      " isFlaggedFraud | 6362620              \n",
      "-RECORD 1------------------------------\n",
      " summary        | mean                 \n",
      " step           | 243.39724563151657   \n",
      " type           | NULL                 \n",
      " amount         | 179861.90354913048   \n",
      " nameOrig       | NULL                 \n",
      " oldbalanceOrg  | 833883.1040744851    \n",
      " newbalanceOrig | 855113.6685785787    \n",
      " nameDest       | NULL                 \n",
      " oldbalanceDest | 1100701.6665196505   \n",
      " newbalanceDest | 1224996.3982019336   \n",
      " isFraud        | 0.001290820448180152 \n",
      " isFlaggedFraud | 2.51468734577894E-6  \n",
      "-RECORD 2------------------------------\n",
      " summary        | stddev               \n",
      " step           | 142.3319710491305    \n",
      " type           | NULL                 \n",
      " amount         | 603858.2314629437    \n",
      " nameOrig       | NULL                 \n",
      " oldbalanceOrg  | 2888242.6730375397   \n",
      " newbalanceOrig | 2924048.502954241    \n",
      " nameDest       | NULL                 \n",
      " oldbalanceDest | 3399180.1129944543   \n",
      " newbalanceDest | 3674128.9421196654   \n",
      " isFraud        | 0.03590479680160438  \n",
      " isFlaggedFraud | 0.001585774705736... \n",
      "-RECORD 3------------------------------\n",
      " summary        | min                  \n",
      " step           | 1                    \n",
      " type           | CASH_IN              \n",
      " amount         | 0.0                  \n",
      " nameOrig       | C1000000639          \n",
      " oldbalanceOrg  | 0.0                  \n",
      " newbalanceOrig | 0.0                  \n",
      " nameDest       | C1000004082          \n",
      " oldbalanceDest | 0.0                  \n",
      " newbalanceDest | 0.0                  \n",
      " isFraud        | 0                    \n",
      " isFlaggedFraud | 0                    \n",
      "-RECORD 4------------------------------\n",
      " summary        | max                  \n",
      " step           | 743                  \n",
      " type           | TRANSFER             \n",
      " amount         | 9.244551664E7        \n",
      " nameOrig       | C999999784           \n",
      " oldbalanceOrg  | 5.958504037E7        \n",
      " newbalanceOrig | 4.958504037E7        \n",
      " nameDest       | M999999784           \n",
      " oldbalanceDest | 3.5601588935E8       \n",
      " newbalanceDest | 3.5617927892E8       \n",
      " isFraud        | 1                    \n",
      " isFlaggedFraud | 1                    \n",
      "\n",
      "None\n"
     ]
    }
   ],
   "source": [
    "# well it's bit messy\n",
    "print(describe_stat.show(vertical = True))"
   ]
  },
  {
   "cell_type": "code",
   "execution_count": 11,
   "id": "2f0fe091-fafb-48a9-94e0-5795742a3369",
   "metadata": {},
   "outputs": [
    {
     "name": "stdout",
     "output_type": "stream",
     "text": [
      "Memory used by describe_stat Varibale for pyspark (In bytes) : \n",
      "56\n"
     ]
    }
   ],
   "source": [
    "print(\"Memory used by describe_stat Varibale for pyspark (In bytes) : \")\n",
    "print(sys.getsizeof(describe_stat))"
   ]
  },
  {
   "cell_type": "markdown",
   "id": "8dbf78ac-8e83-43cc-ac81-a21ff7a1d835",
   "metadata": {},
   "source": [
    "<img src=\"lazy_eval.jpg\" width=\"300\" height=\"200\">"
   ]
  },
  {
   "cell_type": "markdown",
   "id": "b30984f0-99a0-4423-ba68-f96f0619c2ff",
   "metadata": {},
   "source": [
    "### *It's Lazy Evaluation !!!!*"
   ]
  },
  {
   "cell_type": "code",
   "execution_count": 12,
   "id": "1f0c3c95-1724-4d95-8896-5fd570d4f4f9",
   "metadata": {},
   "outputs": [],
   "source": [
    "# Stopping spark session\n",
    "spark.stop()"
   ]
  },
  {
   "cell_type": "code",
   "execution_count": 13,
   "id": "a34b14d4-9730-493c-91c2-22e181e61183",
   "metadata": {},
   "outputs": [],
   "source": [
    "# deleting unused varibles\n",
    "del pandas_df, describe_stat, pyspark_df"
   ]
  },
  {
   "cell_type": "code",
   "execution_count": 14,
   "id": "adda2d4c-81a9-488f-b30d-076d383f21fa",
   "metadata": {},
   "outputs": [
    {
     "name": "stdout",
     "output_type": "stream",
     "text": [
      "SparkSession\t file_path\t pandas_memory\t pandas_time\t pd\t ps\t pyspark_memory\t pyspark_time\t read_csv_with_pandas\t \n",
      "read_csv_with_pyspark\t spark\t sys\t time\t \n"
     ]
    }
   ],
   "source": [
    "# Stored Variables in the memory\n",
    "%who"
   ]
  },
  {
   "cell_type": "markdown",
   "id": "0f5caece-9a62-4523-a25e-c357414c4d1d",
   "metadata": {},
   "source": [
    "#### *Practical - Functions, Methods, Implementations!!*"
   ]
  },
  {
   "cell_type": "markdown",
   "id": "586dc282-38bc-4ac8-9946-a2c39fbd7d33",
   "metadata": {},
   "source": [
    "##### *Let's Exaplore!!*\n",
    "<img src=\"gojo-satoru-explore.gif\" width=\"300\" height=\"200\">"
   ]
  },
  {
   "cell_type": "code",
   "execution_count": 15,
   "id": "20554d62-5eca-42c7-8878-631e2ccf8159",
   "metadata": {},
   "outputs": [],
   "source": [
    "spark = SparkSession.builder \\\n",
    "        .appName(\"DataAnalysisWithSpark\") \\\n",
    "        .getOrCreate()"
   ]
  },
  {
   "cell_type": "markdown",
   "id": "728e6c9f",
   "metadata": {},
   "source": [
    "<img src=\"information_gif.gif\" width=\"300\" height=\"200\">"
   ]
  },
  {
   "cell_type": "code",
   "execution_count": 16,
   "id": "64d949bb",
   "metadata": {},
   "outputs": [
    {
     "data": {
      "text/html": [
       "\n",
       "            <div>\n",
       "                <p><b>SparkSession - in-memory</b></p>\n",
       "                \n",
       "        <div>\n",
       "            <p><b>SparkContext</b></p>\n",
       "\n",
       "            <p><a href=\"http://Ghadge-Saurabh:4040\">Spark UI</a></p>\n",
       "\n",
       "            <dl>\n",
       "              <dt>Version</dt>\n",
       "                <dd><code>v3.5.1</code></dd>\n",
       "              <dt>Master</dt>\n",
       "                <dd><code>local[*]</code></dd>\n",
       "              <dt>AppName</dt>\n",
       "                <dd><code>DataAnalysisWithSpark</code></dd>\n",
       "            </dl>\n",
       "        </div>\n",
       "        \n",
       "            </div>\n",
       "        "
      ],
      "text/plain": [
       "<pyspark.sql.session.SparkSession at 0x22702fce410>"
      ]
     },
     "execution_count": 16,
     "metadata": {},
     "output_type": "execute_result"
    }
   ],
   "source": [
    "spark"
   ]
  },
  {
   "cell_type": "code",
   "execution_count": 17,
   "id": "87bb3eec-7215-4c45-88d9-b6b178d0af4f",
   "metadata": {},
   "outputs": [
    {
     "name": "stdout",
     "output_type": "stream",
     "text": [
      "+----+--------+-------+-----------+-------------+--------------+-----------+--------------+--------------+-------+--------------+\n",
      "| _c0|     _c1|    _c2|        _c3|          _c4|           _c5|        _c6|           _c7|           _c8|    _c9|          _c10|\n",
      "+----+--------+-------+-----------+-------------+--------------+-----------+--------------+--------------+-------+--------------+\n",
      "|step|    type| amount|   nameOrig|oldbalanceOrg|newbalanceOrig|   nameDest|oldbalanceDest|newbalanceDest|isFraud|isFlaggedFraud|\n",
      "|   1| PAYMENT|9839.64|C1231006815|     170136.0|     160296.36|M1979787155|           0.0|           0.0|      0|             0|\n",
      "|   1| PAYMENT|1864.28|C1666544295|      21249.0|      19384.72|M2044282225|           0.0|           0.0|      0|             0|\n",
      "|   1|TRANSFER|  181.0|C1305486145|        181.0|           0.0| C553264065|           0.0|           0.0|      1|             0|\n",
      "|   1|CASH_OUT|  181.0| C840083671|        181.0|           0.0|  C38997010|       21182.0|           0.0|      1|             0|\n",
      "+----+--------+-------+-----------+-------------+--------------+-----------+--------------+--------------+-------+--------------+\n",
      "only showing top 5 rows\n",
      "\n"
     ]
    }
   ],
   "source": [
    "data = spark.read.csv(file_path)\n",
    "data.show(n = 5)"
   ]
  },
  {
   "cell_type": "code",
   "execution_count": 18,
   "id": "7082fa1f-06c6-4401-b7ab-dbb4598cbe64",
   "metadata": {},
   "outputs": [
    {
     "name": "stdout",
     "output_type": "stream",
     "text": [
      "+----+--------+--------+-----------+-------------+--------------+-----------+--------------+--------------+-------+--------------+\n",
      "|step|    type|  amount|   nameOrig|oldbalanceOrg|newbalanceOrig|   nameDest|oldbalanceDest|newbalanceDest|isFraud|isFlaggedFraud|\n",
      "+----+--------+--------+-----------+-------------+--------------+-----------+--------------+--------------+-------+--------------+\n",
      "|   1| PAYMENT| 9839.64|C1231006815|     170136.0|     160296.36|M1979787155|           0.0|           0.0|      0|             0|\n",
      "|   1| PAYMENT| 1864.28|C1666544295|      21249.0|      19384.72|M2044282225|           0.0|           0.0|      0|             0|\n",
      "|   1|TRANSFER|   181.0|C1305486145|        181.0|           0.0| C553264065|           0.0|           0.0|      1|             0|\n",
      "|   1|CASH_OUT|   181.0| C840083671|        181.0|           0.0|  C38997010|       21182.0|           0.0|      1|             0|\n",
      "|   1| PAYMENT|11668.14|C2048537720|      41554.0|      29885.86|M1230701703|           0.0|           0.0|      0|             0|\n",
      "+----+--------+--------+-----------+-------------+--------------+-----------+--------------+--------------+-------+--------------+\n",
      "only showing top 5 rows\n",
      "\n"
     ]
    }
   ],
   "source": [
    "data = spark.read.csv(file_path, header = True,inferSchema = True)\n",
    "data.show(n = 5)"
   ]
  },
  {
   "cell_type": "markdown",
   "id": "f3517fe1",
   "metadata": {},
   "source": [
    "<img src=\"data_everywhere.gif\" width=\"300\" height=\"200\">"
   ]
  },
  {
   "cell_type": "code",
   "execution_count": 19,
   "id": "fdf027f6",
   "metadata": {},
   "outputs": [],
   "source": [
    "# another way to read the files\n",
    "# data = spark.read.option('header','true').csv(file_path)"
   ]
  },
  {
   "cell_type": "markdown",
   "id": "515cb292-f649-49ea-b776-13c194c4ef07",
   "metadata": {},
   "source": [
    "#### Here's what inferSchema does:\n",
    "\n",
    "*Automatic Schema Inference: PySpark examines the data in the input source and attempts to determine the data types of each column based on the actual values. For example, if a column contains only numerical values, PySpark infers it as a numeric data type (e.g., integer or float).\n",
    "Efficient Data Typing: By inferring the schema, PySpark ensures that the DataFrame is created with the most appropriate data types for each column. This helps in optimizing memory usage and improving query performance.\n",
    "Convenience: Setting inferSchema to True simplifies the data loading process, as you don't need to manually specify the schema for the DataFrame. PySpark handles the schema inference automatically, saving you time and efforts*"
   ]
  },
  {
   "cell_type": "code",
   "execution_count": 20,
   "id": "3c8c2920-20b8-49bb-9dd5-25cab6a0390f",
   "metadata": {},
   "outputs": [
    {
     "data": {
      "text/plain": [
       "pyspark.sql.dataframe.DataFrame"
      ]
     },
     "execution_count": 20,
     "metadata": {},
     "output_type": "execute_result"
    }
   ],
   "source": [
    "# type of the data variable\n",
    "type(data)"
   ]
  },
  {
   "cell_type": "code",
   "execution_count": 21,
   "id": "1aa54ddc-bfb7-4a55-b1f7-da5d30d14049",
   "metadata": {},
   "outputs": [
    {
     "name": "stdout",
     "output_type": "stream",
     "text": [
      "+----+-------+-------+-----------+-------------+--------------+-----------+--------------+--------------+-------+--------------+\n",
      "|step|   type| amount|   nameOrig|oldbalanceOrg|newbalanceOrig|   nameDest|oldbalanceDest|newbalanceDest|isFraud|isFlaggedFraud|\n",
      "+----+-------+-------+-----------+-------------+--------------+-----------+--------------+--------------+-------+--------------+\n",
      "|   1|PAYMENT|9839.64|C1231006815|     170136.0|     160296.36|M1979787155|           0.0|           0.0|      0|             0|\n",
      "|   1|PAYMENT|1864.28|C1666544295|      21249.0|      19384.72|M2044282225|           0.0|           0.0|      0|             0|\n",
      "+----+-------+-------+-----------+-------------+--------------+-----------+--------------+--------------+-------+--------------+\n",
      "only showing top 2 rows\n",
      "\n"
     ]
    }
   ],
   "source": [
    "# to get data glimpses\n",
    "data.show(n=2)"
   ]
  },
  {
   "cell_type": "code",
   "execution_count": 22,
   "id": "d285c6f7-245b-4de2-95d3-e58978871230",
   "metadata": {},
   "outputs": [
    {
     "data": {
      "text/plain": [
       "[Row(step=1, type='PAYMENT', amount=9839.64, nameOrig='C1231006815', oldbalanceOrg=170136.0, newbalanceOrig=160296.36, nameDest='M1979787155', oldbalanceDest=0.0, newbalanceDest=0.0, isFraud=0, isFlaggedFraud=0),\n",
       " Row(step=1, type='PAYMENT', amount=1864.28, nameOrig='C1666544295', oldbalanceOrg=21249.0, newbalanceOrig=19384.72, nameDest='M2044282225', oldbalanceDest=0.0, newbalanceDest=0.0, isFraud=0, isFlaggedFraud=0)]"
      ]
     },
     "execution_count": 22,
     "metadata": {},
     "output_type": "execute_result"
    }
   ],
   "source": [
    "data.head(n=2)\n",
    "# similarly tail will also work, showing bottom n rows of pyspark sql dataframe"
   ]
  },
  {
   "cell_type": "code",
   "execution_count": 23,
   "id": "c5b9efa2",
   "metadata": {},
   "outputs": [
    {
     "data": {
      "text/plain": [
       "['step',\n",
       " 'type',\n",
       " 'amount',\n",
       " 'nameOrig',\n",
       " 'oldbalanceOrg',\n",
       " 'newbalanceOrig',\n",
       " 'nameDest',\n",
       " 'oldbalanceDest',\n",
       " 'newbalanceDest',\n",
       " 'isFraud',\n",
       " 'isFlaggedFraud']"
      ]
     },
     "execution_count": 23,
     "metadata": {},
     "output_type": "execute_result"
    }
   ],
   "source": [
    "# printing data columns\n",
    "data.columns"
   ]
  },
  {
   "cell_type": "markdown",
   "id": "45b34f0b",
   "metadata": {},
   "source": [
    "#### *Talk to me Data 😤!!!!*"
   ]
  },
  {
   "cell_type": "markdown",
   "id": "74f975ba",
   "metadata": {},
   "source": [
    "<img src=\"Talk_to_me.gif\" width=\"400\" height=\"300\">"
   ]
  },
  {
   "cell_type": "code",
   "execution_count": 24,
   "id": "1d546182",
   "metadata": {},
   "outputs": [
    {
     "name": "stdout",
     "output_type": "stream",
     "text": [
      "Shape of the Given Data is : \n",
      "Number if Rows : 6362620\n",
      "Number if columns : 11\n"
     ]
    }
   ],
   "source": [
    "# shape of the the Data\n",
    "print('Shape of the Given Data is : ')\n",
    "print(f'Number if Rows : {data.count()}')\n",
    "print(f'Number if columns : {len(data.columns)}')"
   ]
  },
  {
   "cell_type": "code",
   "execution_count": 25,
   "id": "c741f1c4-2347-43c6-bd20-095bc29f130c",
   "metadata": {},
   "outputs": [
    {
     "name": "stdout",
     "output_type": "stream",
     "text": [
      "root\n",
      " |-- step: integer (nullable = true)\n",
      " |-- type: string (nullable = true)\n",
      " |-- amount: double (nullable = true)\n",
      " |-- nameOrig: string (nullable = true)\n",
      " |-- oldbalanceOrg: double (nullable = true)\n",
      " |-- newbalanceOrig: double (nullable = true)\n",
      " |-- nameDest: string (nullable = true)\n",
      " |-- oldbalanceDest: double (nullable = true)\n",
      " |-- newbalanceDest: double (nullable = true)\n",
      " |-- isFraud: integer (nullable = true)\n",
      " |-- isFlaggedFraud: integer (nullable = true)\n",
      "\n"
     ]
    }
   ],
   "source": [
    "data.printSchema() # much like data.info in pandas"
   ]
  },
  {
   "cell_type": "code",
   "execution_count": 26,
   "id": "a551eac3",
   "metadata": {},
   "outputs": [
    {
     "data": {
      "text/plain": [
       "[('step', 'int'),\n",
       " ('type', 'string'),\n",
       " ('amount', 'double'),\n",
       " ('nameOrig', 'string'),\n",
       " ('oldbalanceOrg', 'double'),\n",
       " ('newbalanceOrig', 'double'),\n",
       " ('nameDest', 'string'),\n",
       " ('oldbalanceDest', 'double'),\n",
       " ('newbalanceDest', 'double'),\n",
       " ('isFraud', 'int'),\n",
       " ('isFlaggedFraud', 'int')]"
      ]
     },
     "execution_count": 26,
     "metadata": {},
     "output_type": "execute_result"
    }
   ],
   "source": [
    "# show data types same as pandas\n",
    "data.dtypes"
   ]
  },
  {
   "cell_type": "code",
   "execution_count": 27,
   "id": "cec22cc0",
   "metadata": {},
   "outputs": [
    {
     "name": "stdout",
     "output_type": "stream",
     "text": [
      "+-------+------------------+--------+------------------+-----------+------------------+-----------------+-----------+------------------+------------------+--------------------+--------------------+\n",
      "|summary|              step|    type|            amount|   nameOrig|     oldbalanceOrg|   newbalanceOrig|   nameDest|    oldbalanceDest|    newbalanceDest|             isFraud|      isFlaggedFraud|\n",
      "+-------+------------------+--------+------------------+-----------+------------------+-----------------+-----------+------------------+------------------+--------------------+--------------------+\n",
      "|  count|           6362620| 6362620|           6362620|    6362620|           6362620|          6362620|    6362620|           6362620|           6362620|             6362620|             6362620|\n",
      "|   mean|243.39724563151657|    NULL|179861.90354913048|       NULL| 833883.1040744851|855113.6685785787|       NULL|1100701.6665196505|1224996.3982019336|0.001290820448180152| 2.51468734577894E-6|\n",
      "| stddev| 142.3319710491305|    NULL| 603858.2314629437|       NULL|2888242.6730375397|2924048.502954241|       NULL|3399180.1129944543|3674128.9421196654| 0.03590479680160438|0.001585774705736...|\n",
      "|    min|                 1| CASH_IN|               0.0|C1000000639|               0.0|              0.0|C1000004082|               0.0|               0.0|                   0|                   0|\n",
      "|    max|               743|TRANSFER|     9.244551664E7| C999999784|     5.958504037E7|    4.958504037E7| M999999784|    3.5601588935E8|    3.5617927892E8|                   1|                   1|\n",
      "+-------+------------------+--------+------------------+-----------+------------------+-----------------+-----------+------------------+------------------+--------------------+--------------------+\n",
      "\n"
     ]
    }
   ],
   "source": [
    "# describe stats\n",
    "data.describe().show()"
   ]
  },
  {
   "cell_type": "code",
   "execution_count": 28,
   "id": "9ac52596",
   "metadata": {},
   "outputs": [
    {
     "data": {
      "text/html": [
       "<div>\n",
       "<style scoped>\n",
       "    .dataframe tbody tr th:only-of-type {\n",
       "        vertical-align: middle;\n",
       "    }\n",
       "\n",
       "    .dataframe tbody tr th {\n",
       "        vertical-align: top;\n",
       "    }\n",
       "\n",
       "    .dataframe thead th {\n",
       "        text-align: right;\n",
       "    }\n",
       "</style>\n",
       "<table border=\"1\" class=\"dataframe\">\n",
       "  <thead>\n",
       "    <tr style=\"text-align: right;\">\n",
       "      <th></th>\n",
       "      <th>step</th>\n",
       "      <th>amount</th>\n",
       "      <th>oldbalanceOrg</th>\n",
       "      <th>newbalanceOrig</th>\n",
       "      <th>oldbalanceDest</th>\n",
       "      <th>newbalanceDest</th>\n",
       "      <th>isFraud</th>\n",
       "      <th>isFlaggedFraud</th>\n",
       "    </tr>\n",
       "  </thead>\n",
       "  <tbody>\n",
       "    <tr>\n",
       "      <th>count</th>\n",
       "      <td>6.362620e+06</td>\n",
       "      <td>6.362620e+06</td>\n",
       "      <td>6.362620e+06</td>\n",
       "      <td>6.362620e+06</td>\n",
       "      <td>6.362620e+06</td>\n",
       "      <td>6.362620e+06</td>\n",
       "      <td>6.362620e+06</td>\n",
       "      <td>6.362620e+06</td>\n",
       "    </tr>\n",
       "    <tr>\n",
       "      <th>mean</th>\n",
       "      <td>2.433972e+02</td>\n",
       "      <td>1.798619e+05</td>\n",
       "      <td>8.338831e+05</td>\n",
       "      <td>8.551137e+05</td>\n",
       "      <td>1.100702e+06</td>\n",
       "      <td>1.224996e+06</td>\n",
       "      <td>1.290820e-03</td>\n",
       "      <td>2.514687e-06</td>\n",
       "    </tr>\n",
       "    <tr>\n",
       "      <th>std</th>\n",
       "      <td>1.423320e+02</td>\n",
       "      <td>6.038582e+05</td>\n",
       "      <td>2.888243e+06</td>\n",
       "      <td>2.924049e+06</td>\n",
       "      <td>3.399180e+06</td>\n",
       "      <td>3.674129e+06</td>\n",
       "      <td>3.590480e-02</td>\n",
       "      <td>1.585775e-03</td>\n",
       "    </tr>\n",
       "    <tr>\n",
       "      <th>min</th>\n",
       "      <td>1.000000e+00</td>\n",
       "      <td>0.000000e+00</td>\n",
       "      <td>0.000000e+00</td>\n",
       "      <td>0.000000e+00</td>\n",
       "      <td>0.000000e+00</td>\n",
       "      <td>0.000000e+00</td>\n",
       "      <td>0.000000e+00</td>\n",
       "      <td>0.000000e+00</td>\n",
       "    </tr>\n",
       "    <tr>\n",
       "      <th>50%</th>\n",
       "      <td>2.390000e+02</td>\n",
       "      <td>7.486438e+04</td>\n",
       "      <td>1.421123e+04</td>\n",
       "      <td>0.000000e+00</td>\n",
       "      <td>1.326237e+05</td>\n",
       "      <td>2.146058e+05</td>\n",
       "      <td>0.000000e+00</td>\n",
       "      <td>0.000000e+00</td>\n",
       "    </tr>\n",
       "    <tr>\n",
       "      <th>90%</th>\n",
       "      <td>3.990000e+02</td>\n",
       "      <td>3.653524e+05</td>\n",
       "      <td>1.821945e+06</td>\n",
       "      <td>1.968910e+06</td>\n",
       "      <td>2.913495e+06</td>\n",
       "      <td>3.194287e+06</td>\n",
       "      <td>0.000000e+00</td>\n",
       "      <td>0.000000e+00</td>\n",
       "    </tr>\n",
       "    <tr>\n",
       "      <th>max</th>\n",
       "      <td>7.430000e+02</td>\n",
       "      <td>9.244552e+07</td>\n",
       "      <td>5.958504e+07</td>\n",
       "      <td>4.958504e+07</td>\n",
       "      <td>3.560159e+08</td>\n",
       "      <td>3.561793e+08</td>\n",
       "      <td>1.000000e+00</td>\n",
       "      <td>1.000000e+00</td>\n",
       "    </tr>\n",
       "  </tbody>\n",
       "</table>\n",
       "</div>"
      ],
      "text/plain": [
       "               step        amount  oldbalanceOrg  newbalanceOrig  oldbalanceDest  newbalanceDest       isFraud  isFlaggedFraud\n",
       "count  6.362620e+06  6.362620e+06   6.362620e+06    6.362620e+06    6.362620e+06    6.362620e+06  6.362620e+06    6.362620e+06\n",
       "mean   2.433972e+02  1.798619e+05   8.338831e+05    8.551137e+05    1.100702e+06    1.224996e+06  1.290820e-03    2.514687e-06\n",
       "std    1.423320e+02  6.038582e+05   2.888243e+06    2.924049e+06    3.399180e+06    3.674129e+06  3.590480e-02    1.585775e-03\n",
       "min    1.000000e+00  0.000000e+00   0.000000e+00    0.000000e+00    0.000000e+00    0.000000e+00  0.000000e+00    0.000000e+00\n",
       "50%    2.390000e+02  7.486438e+04   1.421123e+04    0.000000e+00    1.326237e+05    2.146058e+05  0.000000e+00    0.000000e+00\n",
       "90%    3.990000e+02  3.653524e+05   1.821945e+06    1.968910e+06    2.913495e+06    3.194287e+06  0.000000e+00    0.000000e+00\n",
       "max    7.430000e+02  9.244552e+07   5.958504e+07    4.958504e+07    3.560159e+08    3.561793e+08  1.000000e+00    1.000000e+00"
      ]
     },
     "execution_count": 28,
     "metadata": {},
     "output_type": "execute_result"
    }
   ],
   "source": [
    "# describe stats\n",
    "# ps is pyspark.pandas\n",
    "ps.DataFrame(data).describe(percentiles = [0.5,0.9])\n"
   ]
  },
  {
   "cell_type": "code",
   "execution_count": 29,
   "id": "06599c38",
   "metadata": {},
   "outputs": [
    {
     "name": "stdout",
     "output_type": "stream",
     "text": [
      "+-------+------------------+--------+------------------+-----------+------------------+-----------------+-----------+------------------+------------------+--------------------+--------------------+\n",
      "|summary|              step|    type|            amount|   nameOrig|     oldbalanceOrg|   newbalanceOrig|   nameDest|    oldbalanceDest|    newbalanceDest|             isFraud|      isFlaggedFraud|\n",
      "+-------+------------------+--------+------------------+-----------+------------------+-----------------+-----------+------------------+------------------+--------------------+--------------------+\n",
      "|  count|           6362620| 6362620|           6362620|    6362620|           6362620|          6362620|    6362620|           6362620|           6362620|             6362620|             6362620|\n",
      "|   mean|243.39724563151657|    NULL|179861.90354913048|       NULL| 833883.1040744851|855113.6685785787|       NULL|1100701.6665196505|1224996.3982019336|0.001290820448180152| 2.51468734577894E-6|\n",
      "| stddev| 142.3319710491305|    NULL| 603858.2314629437|       NULL|2888242.6730375397|2924048.502954241|       NULL|3399180.1129944543|3674128.9421196654| 0.03590479680160438|0.001585774705736...|\n",
      "|    min|                 1| CASH_IN|               0.0|C1000000639|               0.0|              0.0|C1000004082|               0.0|               0.0|                   0|                   0|\n",
      "|    25%|               156|    NULL|          13390.35|       NULL|               0.0|              0.0|       NULL|               0.0|               0.0|                   0|                   0|\n",
      "|    50%|               239|    NULL|          74864.38|       NULL|          14211.23|              0.0|       NULL|         132623.66|         214605.81|                   0|                   0|\n",
      "|    75%|               335|    NULL|         208722.05|       NULL|          107294.0|        144232.62|       NULL|         942942.08|        1111684.56|                   0|                   0|\n",
      "|    max|               743|TRANSFER|     9.244551664E7| C999999784|     5.958504037E7|    4.958504037E7| M999999784|    3.5601588935E8|    3.5617927892E8|                   1|                   1|\n",
      "+-------+------------------+--------+------------------+-----------+------------------+-----------------+-----------+------------------+------------------+--------------------+--------------------+\n",
      "\n"
     ]
    }
   ],
   "source": [
    "# summary stats same as describe\n",
    "data.summary().show()"
   ]
  },
  {
   "cell_type": "code",
   "execution_count": 30,
   "id": "255dfe2d",
   "metadata": {},
   "outputs": [
    {
     "name": "stdout",
     "output_type": "stream",
     "text": [
      "+-------+------------------+--------+------------------+-----------+------------------+-----------------+-----------+------------------+------------------+--------------------+--------------------+\n",
      "|summary|              step|    type|            amount|   nameOrig|     oldbalanceOrg|   newbalanceOrig|   nameDest|    oldbalanceDest|    newbalanceDest|             isFraud|      isFlaggedFraud|\n",
      "+-------+------------------+--------+------------------+-----------+------------------+-----------------+-----------+------------------+------------------+--------------------+--------------------+\n",
      "|  count|           6362620| 6362620|           6362620|    6362620|           6362620|          6362620|    6362620|           6362620|           6362620|             6362620|             6362620|\n",
      "|   mean|243.39724563151657|    NULL|179861.90354913048|       NULL| 833883.1040744851|855113.6685785787|       NULL|1100701.6665196505|1224996.3982019336|0.001290820448180152| 2.51468734577894E-6|\n",
      "| stddev| 142.3319710491305|    NULL| 603858.2314629437|       NULL|2888242.6730375397|2924048.502954241|       NULL|3399180.1129944543|3674128.9421196654| 0.03590479680160438|0.001585774705736...|\n",
      "|    min|                 1| CASH_IN|               0.0|C1000000639|               0.0|              0.0|C1000004082|               0.0|               0.0|                   0|                   0|\n",
      "|    25%|               156|    NULL|          13390.35|       NULL|               0.0|              0.0|       NULL|               0.0|               0.0|                   0|                   0|\n",
      "|    50%|               239|    NULL|          74864.38|       NULL|          14211.23|              0.0|       NULL|         132623.66|         214605.81|                   0|                   0|\n",
      "|    90%|               399|    NULL|         365352.42|       NULL|        1821944.98|       1968910.44|       NULL|        2913495.33|        3194287.27|                   0|                   0|\n",
      "|    99%|               681|    NULL|        1614574.73|       NULL|      1.60038282E7|    1.616171801E7|       NULL|     1.237329257E7|     1.314090626E7|                   0|                   0|\n",
      "|    max|               743|TRANSFER|     9.244551664E7| C999999784|     5.958504037E7|    4.958504037E7| M999999784|    3.5601588935E8|    3.5617927892E8|                   1|                   1|\n",
      "+-------+------------------+--------+------------------+-----------+------------------+-----------------+-----------+------------------+------------------+--------------------+--------------------+\n",
      "\n"
     ]
    }
   ],
   "source": [
    "# summary stats with addition of few more stats\n",
    "data.summary(\"count\",\"mean\",\"stddev\",\"min\",\"25%\",\"50%\",\"90%\",\"99%\",\"max\").show()"
   ]
  },
  {
   "cell_type": "code",
   "execution_count": 31,
   "id": "95365de7-b0ae-404c-b43a-279b2666ab95",
   "metadata": {},
   "outputs": [
    {
     "name": "stdout",
     "output_type": "stream",
     "text": [
      "+-------+\n",
      "| amount|\n",
      "+-------+\n",
      "|9839.64|\n",
      "|1864.28|\n",
      "+-------+\n",
      "only showing top 2 rows\n",
      "\n"
     ]
    }
   ],
   "source": [
    "# select single column\n",
    "amount = data.select('amount')\n",
    "amount.show(n=2)"
   ]
  },
  {
   "cell_type": "code",
   "execution_count": 32,
   "id": "ec840296-c51e-413e-b09e-bb5ae55370fa",
   "metadata": {},
   "outputs": [
    {
     "name": "stdout",
     "output_type": "stream",
     "text": [
      "+-------+--------------+\n",
      "| amount|oldbalanceDest|\n",
      "+-------+--------------+\n",
      "|9839.64|           0.0|\n",
      "|1864.28|           0.0|\n",
      "+-------+--------------+\n",
      "only showing top 2 rows\n",
      "\n"
     ]
    }
   ],
   "source": [
    "# select multiple columns\n",
    "data.select(['amount','oldbalanceDest']).show(2)"
   ]
  },
  {
   "cell_type": "code",
   "execution_count": 33,
   "id": "b8c7e21e",
   "metadata": {},
   "outputs": [],
   "source": [
    "from pyspark.sql.functions import mean, stddev"
   ]
  },
  {
   "cell_type": "code",
   "execution_count": 34,
   "id": "f95bf661",
   "metadata": {},
   "outputs": [],
   "source": [
    "# adding a new column\n",
    "data = data.withColumn('Norm_Amount',\\\n",
    "                (data['amount'] - data.agg(mean(data['amount'])).collect()[0][0])/data.agg(stddev(data['amount'])).collect()[0][0])"
   ]
  },
  {
   "cell_type": "code",
   "execution_count": 35,
   "id": "0fa17dcf",
   "metadata": {},
   "outputs": [
    {
     "data": {
      "text/plain": [
       "[Row(avg(amount)=179861.90354913048)]"
      ]
     },
     "execution_count": 35,
     "metadata": {},
     "output_type": "execute_result"
    }
   ],
   "source": [
    "data.agg(mean(data['amount'])).collect()"
   ]
  },
  {
   "cell_type": "code",
   "execution_count": 36,
   "id": "15b1411b",
   "metadata": {},
   "outputs": [
    {
     "name": "stdout",
     "output_type": "stream",
     "text": [
      "+----+-------+-------+-----------+-------------+--------------+-----------+--------------+--------------+-------+--------------+-------------------+\n",
      "|step|   type| amount|   nameOrig|oldbalanceOrg|newbalanceOrig|   nameDest|oldbalanceDest|newbalanceDest|isFraud|isFlaggedFraud|        Norm_Amount|\n",
      "+----+-------+-------+-----------+-------------+--------------+-----------+--------------+--------------+-------+--------------+-------------------+\n",
      "|   1|PAYMENT|9839.64|C1231006815|     170136.0|     160296.36|M1979787155|           0.0|           0.0|      0|             0|-0.2815599004707184|\n",
      "|   1|PAYMENT|1864.28|C1666544295|      21249.0|      19384.72|M2044282225|           0.0|           0.0|      0|             0|-0.2947672388565485|\n",
      "+----+-------+-------+-----------+-------------+--------------+-----------+--------------+--------------+-------+--------------+-------------------+\n",
      "only showing top 2 rows\n",
      "\n"
     ]
    }
   ],
   "source": [
    "data.show(n = 2)"
   ]
  },
  {
   "cell_type": "code",
   "execution_count": 37,
   "id": "d336abe8",
   "metadata": {},
   "outputs": [],
   "source": [
    "# some other useful pyspark sql functions\n",
    "from pyspark.sql.functions import mean, stddev, variance, corr, skewness, kurtosis, min, max, sum, count, col"
   ]
  },
  {
   "cell_type": "code",
   "execution_count": 38,
   "id": "344e13b6",
   "metadata": {},
   "outputs": [
    {
     "name": "stdout",
     "output_type": "stream",
     "text": [
      "+----+-------+-------+-----------+-------------+--------------+-----------+--------------+--------------+-------+--------------+\n",
      "|step|   type| amount|   nameOrig|oldbalanceOrg|newbalanceOrig|   nameDest|oldbalanceDest|newbalanceDest|isFraud|isFlaggedFraud|\n",
      "+----+-------+-------+-----------+-------------+--------------+-----------+--------------+--------------+-------+--------------+\n",
      "|   1|PAYMENT|9839.64|C1231006815|     170136.0|     160296.36|M1979787155|           0.0|           0.0|      0|             0|\n",
      "|   1|PAYMENT|1864.28|C1666544295|      21249.0|      19384.72|M2044282225|           0.0|           0.0|      0|             0|\n",
      "+----+-------+-------+-----------+-------------+--------------+-----------+--------------+--------------+-------+--------------+\n",
      "only showing top 2 rows\n",
      "\n"
     ]
    }
   ],
   "source": [
    "# To drop a column\n",
    "data = data.drop('Norm_Amount')\n",
    "data.show(n = 2)"
   ]
  },
  {
   "cell_type": "markdown",
   "id": "f7017f25",
   "metadata": {},
   "source": [
    "#### *Let's Deal Missing*"
   ]
  },
  {
   "cell_type": "markdown",
   "id": "4f26c6a4",
   "metadata": {},
   "source": [
    "<img src=\"lets_deal_with_missing.gif\" width=\"300\" height=\"300\">"
   ]
  },
  {
   "cell_type": "code",
   "execution_count": 39,
   "id": "b5e14748",
   "metadata": {},
   "outputs": [
    {
     "name": "stdout",
     "output_type": "stream",
     "text": [
      "+----+----+------+--------+-------------+--------------+--------+--------------+--------------+-------+--------------+\n",
      "|step|type|amount|nameOrig|oldbalanceOrg|newbalanceOrig|nameDest|oldbalanceDest|newbalanceDest|isFraud|isFlaggedFraud|\n",
      "+----+----+------+--------+-------------+--------------+--------+--------------+--------------+-------+--------------+\n",
      "|   0|   0|     0|       0|            0|             0|       0|             0|             0|      0|             0|\n",
      "+----+----+------+--------+-------------+--------------+--------+--------------+--------------+-------+--------------+\n",
      "\n"
     ]
    }
   ],
   "source": [
    "# Missing Analysis\n",
    "# col : Returns a Column based on the given column name.\n",
    "missing_values_counts = data.select([sum(col(c).isNull().cast(\"int\")).alias(c) for c in data.columns])\n",
    "missing_values_counts.show()\n"
   ]
  },
  {
   "cell_type": "markdown",
   "id": "abb16443",
   "metadata": {},
   "source": [
    "<img src=\"where_is_missing.jpg\" width=\"400\" height=\"300\">"
   ]
  },
  {
   "cell_type": "code",
   "execution_count": 40,
   "id": "96023f37",
   "metadata": {},
   "outputs": [
    {
     "data": {
      "text/plain": [
       "DataFrame[step: int, type: string, amount: double, nameOrig: string, oldbalanceOrg: double, newbalanceOrig: double, nameDest: string, oldbalanceDest: double, newbalanceDest: double, isFraud: int, isFlaggedFraud: int]"
      ]
     },
     "execution_count": 40,
     "metadata": {},
     "output_type": "execute_result"
    }
   ],
   "source": [
    "data.na.drop(how = 'any') # It will drop all rows containing atleast one null in that row (default how = 'any')\n",
    "data.na.drop(how = 'any', thresh = 3) # It will drop all rows containing atleast 4 null in that row\n",
    "data.na.drop(how = 'all') # It will drop all rows containing all null in that row\n",
    "data.na.drop(how = 'any', subset = ['amount']) # it will drop row if the amount contains the null\n",
    "data.na.fill('value to be fill with', subset = ['amount']) # fill takes two argument 1) value 2) subset\n",
    "# please notice, haven't assigned to any variable .. will not be stored in any variable"
   ]
  },
  {
   "cell_type": "code",
   "execution_count": 41,
   "id": "fc348355",
   "metadata": {},
   "outputs": [
    {
     "name": "stdout",
     "output_type": "stream",
     "text": [
      "+----+-------+-------+-----------+-------------+--------------+-----------+--------------+--------------+-------+--------------+--------------+---------------------+\n",
      "|step|   type| amount|   nameOrig|oldbalanceOrg|newbalanceOrig|   nameDest|oldbalanceDest|newbalanceDest|isFraud|isFlaggedFraud|amount_imputed|oldbalanceOrg_imputed|\n",
      "+----+-------+-------+-----------+-------------+--------------+-----------+--------------+--------------+-------+--------------+--------------+---------------------+\n",
      "|   1|PAYMENT|9839.64|C1231006815|     170136.0|     160296.36|M1979787155|           0.0|           0.0|      0|             0|       9839.64|             170136.0|\n",
      "|   1|PAYMENT|1864.28|C1666544295|      21249.0|      19384.72|M2044282225|           0.0|           0.0|      0|             0|       1864.28|              21249.0|\n",
      "+----+-------+-------+-----------+-------------+--------------+-----------+--------------+--------------+-------+--------------+--------------+---------------------+\n",
      "only showing top 2 rows\n",
      "\n"
     ]
    }
   ],
   "source": [
    "from pyspark.ml.feature import Imputer\n",
    "\n",
    "imputer = Imputer(\n",
    "    inputCols = ['amount', 'oldbalanceOrg'],\n",
    "    outputCols = [f\"{col}_imputed\" for col in ['amount', 'oldbalanceOrg']]\n",
    ").setStrategy(\"mean\")\n",
    "\n",
    "imputer.fit(data).transform(data).show(n = 2)"
   ]
  },
  {
   "cell_type": "markdown",
   "id": "d93bf969",
   "metadata": {},
   "source": [
    "#### Data Filtering "
   ]
  },
  {
   "cell_type": "markdown",
   "id": "d018db24",
   "metadata": {},
   "source": [
    "<img src=\"filter.webp\" width=\"400\" height=\"400\">"
   ]
  },
  {
   "cell_type": "code",
   "execution_count": 42,
   "id": "01bf28a8",
   "metadata": {},
   "outputs": [
    {
     "name": "stdout",
     "output_type": "stream",
     "text": [
      "+----+--------+------+-----------+-------------+--------------+-----------+--------------+--------------+-------+--------------+\n",
      "|step|    type|amount|   nameOrig|oldbalanceOrg|newbalanceOrig|   nameDest|oldbalanceDest|newbalanceDest|isFraud|isFlaggedFraud|\n",
      "+----+--------+------+-----------+-------------+--------------+-----------+--------------+--------------+-------+--------------+\n",
      "|   1|TRANSFER| 181.0|C1305486145|        181.0|           0.0| C553264065|           0.0|           0.0|      1|             0|\n",
      "|   1|CASH_OUT| 181.0| C840083671|        181.0|           0.0|  C38997010|       21182.0|           0.0|      1|             0|\n",
      "|   1| PAYMENT|671.64|C2033524545|      15123.0|      14451.36| M473053293|           0.0|           0.0|      0|             0|\n",
      "|   1| PAYMENT| 38.66| C343345308|      16174.0|      16135.34|M1714688478|           0.0|           0.0|      0|             0|\n",
      "+----+--------+------+-----------+-------------+--------------+-----------+--------------+--------------+-------+--------------+\n",
      "only showing top 4 rows\n",
      "\n"
     ]
    }
   ],
   "source": [
    "data.filter(\"amount < 1000\").show(n = 4)"
   ]
  },
  {
   "cell_type": "code",
   "execution_count": 43,
   "id": "b9d0bd3c",
   "metadata": {},
   "outputs": [
    {
     "name": "stdout",
     "output_type": "stream",
     "text": [
      "+----+--------+------+-----------+-------------+--------------+-----------+--------------+--------------+-------+--------------+\n",
      "|step|    type|amount|   nameOrig|oldbalanceOrg|newbalanceOrig|   nameDest|oldbalanceDest|newbalanceDest|isFraud|isFlaggedFraud|\n",
      "+----+--------+------+-----------+-------------+--------------+-----------+--------------+--------------+-------+--------------+\n",
      "|   1|TRANSFER| 181.0|C1305486145|        181.0|           0.0| C553264065|           0.0|           0.0|      1|             0|\n",
      "|   1|CASH_OUT| 181.0| C840083671|        181.0|           0.0|  C38997010|       21182.0|           0.0|      1|             0|\n",
      "|   1| PAYMENT|671.64|C2033524545|      15123.0|      14451.36| M473053293|           0.0|           0.0|      0|             0|\n",
      "|   1| PAYMENT| 38.66| C343345308|      16174.0|      16135.34|M1714688478|           0.0|           0.0|      0|             0|\n",
      "+----+--------+------+-----------+-------------+--------------+-----------+--------------+--------------+-------+--------------+\n",
      "only showing top 4 rows\n",
      "\n"
     ]
    }
   ],
   "source": [
    "data.filter(data['amount'] < 1000).show(n = 4)"
   ]
  },
  {
   "cell_type": "code",
   "execution_count": 44,
   "id": "e709fa22",
   "metadata": {},
   "outputs": [
    {
     "name": "stdout",
     "output_type": "stream",
     "text": [
      "+----+--------+------+-----------+-------------+--------------+----------+--------------+--------------+-------+--------------+\n",
      "|step|    type|amount|   nameOrig|oldbalanceOrg|newbalanceOrig|  nameDest|oldbalanceDest|newbalanceDest|isFraud|isFlaggedFraud|\n",
      "+----+--------+------+-----------+-------------+--------------+----------+--------------+--------------+-------+--------------+\n",
      "|   1|TRANSFER| 181.0|C1305486145|        181.0|           0.0|C553264065|           0.0|           0.0|      1|             0|\n",
      "|   1|CASH_OUT| 181.0| C840083671|        181.0|           0.0| C38997010|       21182.0|           0.0|      1|             0|\n",
      "+----+--------+------+-----------+-------------+--------------+----------+--------------+--------------+-------+--------------+\n",
      "only showing top 2 rows\n",
      "\n"
     ]
    },
    {
     "data": {
      "text/plain": [
       "True"
      ]
     },
     "execution_count": 44,
     "metadata": {},
     "output_type": "execute_result"
    }
   ],
   "source": [
    "# using SQL query\n",
    "# Register the DataFrame as a temporary view\n",
    "data.createOrReplaceTempView(\"Fraud_Data\")\n",
    "# Run SQL query to filter data\n",
    "spark.sql(\"SELECT * FROM Fraud_Data WHERE amount < 1000\").show(n = 2)\n",
    "# Drop the temporary view\n",
    "spark.catalog.dropTempView(\"Fraud_Data\")"
   ]
  },
  {
   "cell_type": "code",
   "execution_count": 45,
   "id": "56cf65ed",
   "metadata": {},
   "outputs": [
    {
     "name": "stdout",
     "output_type": "stream",
     "text": [
      "+----+--------+-------+-----------+-------------+--------------+-----------+--------------+--------------+-------+--------------+\n",
      "|step|    type| amount|   nameOrig|oldbalanceOrg|newbalanceOrig|   nameDest|oldbalanceDest|newbalanceDest|isFraud|isFlaggedFraud|\n",
      "+----+--------+-------+-----------+-------------+--------------+-----------+--------------+--------------+-------+--------------+\n",
      "|   1| PAYMENT|9839.64|C1231006815|     170136.0|     160296.36|M1979787155|           0.0|           0.0|      0|             0|\n",
      "|   1| PAYMENT|1864.28|C1666544295|      21249.0|      19384.72|M2044282225|           0.0|           0.0|      0|             0|\n",
      "|   1|TRANSFER|  181.0|C1305486145|        181.0|           0.0| C553264065|           0.0|           0.0|      1|             0|\n",
      "|   1|CASH_OUT|  181.0| C840083671|        181.0|           0.0|  C38997010|       21182.0|           0.0|      1|             0|\n",
      "+----+--------+-------+-----------+-------------+--------------+-----------+--------------+--------------+-------+--------------+\n",
      "only showing top 4 rows\n",
      "\n"
     ]
    }
   ],
   "source": [
    "# use of & , || operator\n",
    "data.filter((data[\"amount\"] < 10000) & (data[\"isFlaggedFraud\"] == 0)).show(n = 4)"
   ]
  },
  {
   "cell_type": "code",
   "execution_count": 46,
   "id": "7578d8e3",
   "metadata": {},
   "outputs": [
    {
     "name": "stdout",
     "output_type": "stream",
     "text": [
      "+----+-------+-------+-----------+-------------+--------------+-----------+--------------+--------------+-------+--------------+\n",
      "|step|   type| amount|   nameOrig|oldbalanceOrg|newbalanceOrig|   nameDest|oldbalanceDest|newbalanceDest|isFraud|isFlaggedFraud|\n",
      "+----+-------+-------+-----------+-------------+--------------+-----------+--------------+--------------+-------+--------------+\n",
      "|   1|PAYMENT|9839.64|C1231006815|     170136.0|     160296.36|M1979787155|           0.0|           0.0|      0|             0|\n",
      "|   1|PAYMENT|1864.28|C1666544295|      21249.0|      19384.72|M2044282225|           0.0|           0.0|      0|             0|\n",
      "+----+-------+-------+-----------+-------------+--------------+-----------+--------------+--------------+-------+--------------+\n",
      "only showing top 2 rows\n",
      "\n"
     ]
    },
    {
     "data": {
      "text/plain": [
       "True"
      ]
     },
     "execution_count": 46,
     "metadata": {},
     "output_type": "execute_result"
    }
   ],
   "source": [
    "# using SQL query\n",
    "# Register the DataFrame as a temporary view\n",
    "data.createOrReplaceTempView(\"Fraud_Data\")\n",
    "# Run SQL query to filter data\n",
    "spark.sql(\"SELECT * FROM Fraud_Data WHERE amount < 10000 and isFlaggedFraud = 0\").show(n = 2)\n",
    "# Drop the temporary view\n",
    "spark.catalog.dropTempView(\"Fraud_Data\")"
   ]
  },
  {
   "cell_type": "markdown",
   "id": "30b496d1",
   "metadata": {},
   "source": [
    "### Pyspark Groupby and Aggregations"
   ]
  },
  {
   "cell_type": "code",
   "execution_count": 47,
   "id": "30dd45cb",
   "metadata": {},
   "outputs": [
    {
     "name": "stdout",
     "output_type": "stream",
     "text": [
      "+--------+--------------------+\n",
      "|    type|         sum(amount)|\n",
      "+--------+--------------------+\n",
      "|TRANSFER|4.852919872631695...|\n",
      "| CASH_IN|2.363673919124604...|\n",
      "|CASH_OUT|3.944129952244902...|\n",
      "| PAYMENT|2.809337113837001...|\n",
      "|   DEBIT|2.2719922127999982E8|\n",
      "+--------+--------------------+\n",
      "\n",
      "+--------+-------------+\n",
      "|    type|  max(amount)|\n",
      "+--------+-------------+\n",
      "|TRANSFER|9.244551664E7|\n",
      "| CASH_IN|    1915267.9|\n",
      "|CASH_OUT|        1.0E7|\n",
      "| PAYMENT|    238637.98|\n",
      "|   DEBIT|    569077.51|\n",
      "+--------+-------------+\n",
      "\n"
     ]
    }
   ],
   "source": [
    "# much similar to pandas\n",
    "# groupby type of transaction for total aggregate amount  \n",
    "data.groupBy('type').sum('amount').show()\n",
    "# groupby type of transaction for max amount  \n",
    "data.groupBy('type').max('amount').show()\n",
    "# can use min, max, count, mean ...."
   ]
  },
  {
   "cell_type": "markdown",
   "id": "db240188",
   "metadata": {},
   "source": [
    "#### Renaming Column Names"
   ]
  },
  {
   "cell_type": "code",
   "execution_count": 48,
   "id": "5776c7ff",
   "metadata": {},
   "outputs": [
    {
     "name": "stdout",
     "output_type": "stream",
     "text": [
      "Aggregating two columns ...\n",
      "+--------+--------------------+------------------+\n",
      "|    type|         sum(amount)|max(oldbalanceOrg)|\n",
      "+--------+--------------------+------------------+\n",
      "|TRANSFER|4.852919872631695...|     5.958504037E7|\n",
      "| CASH_IN|2.363673919124604...|     3.893942403E7|\n",
      "+--------+--------------------+------------------+\n",
      "only showing top 2 rows\n",
      "\n",
      "Renaming Column Name...\n",
      "+--------+--------------------+------------------+\n",
      "|    Type|         sum(amount)|max(oldbalanceOrg)|\n",
      "+--------+--------------------+------------------+\n",
      "|TRANSFER|4.852919872631695...|     5.958504037E7|\n",
      "| CASH_IN|2.363673919124604...|     3.893942403E7|\n",
      "+--------+--------------------+------------------+\n",
      "only showing top 2 rows\n",
      "\n"
     ]
    }
   ],
   "source": [
    "print('Aggregating two columns ...')\n",
    "agg = data.groupBy('type').agg({'amount':'sum', 'oldbalanceOrg':'max'})\n",
    "agg.show(n = 2)\n",
    "print('Renaming Column Name...')\n",
    "agg = agg.withColumnRenamed(\"type\", \"Type\")\n",
    "agg.show(n = 2)\n"
   ]
  },
  {
   "cell_type": "code",
   "execution_count": 49,
   "id": "af3ee8f0",
   "metadata": {},
   "outputs": [
    {
     "name": "stdout",
     "output_type": "stream",
     "text": [
      "Renaming multiple columns same time...\n",
      "+--------+--------------------+-----------------------+\n",
      "|    Type|      Agg_Sum_Amount|Maximum_Old_Balance_ORG|\n",
      "+--------+--------------------+-----------------------+\n",
      "|TRANSFER|4.852919872631695...|          5.958504037E7|\n",
      "| CASH_IN|2.363673919124604...|          3.893942403E7|\n",
      "+--------+--------------------+-----------------------+\n",
      "only showing top 2 rows\n",
      "\n",
      "Alternate Way..\n",
      "+--------+--------------------+-------------+\n",
      "|    Type|             SUM_AMT|  MAX_OLd_BAL|\n",
      "+--------+--------------------+-------------+\n",
      "|TRANSFER|4.852919872631695...|5.958504037E7|\n",
      "| CASH_IN|2.363673919124604...|3.893942403E7|\n",
      "+--------+--------------------+-------------+\n",
      "only showing top 2 rows\n",
      "\n"
     ]
    }
   ],
   "source": [
    "# Rename multiple columns using select() with aliasing\n",
    "print('Renaming multiple columns same time...')\n",
    "agg = agg.select(col(\"type\").alias(\"Type\"), col(\"sum(amount)\").alias(\"Agg_Sum_Amount\"), col(\"max(oldbalanceOrg)\").alias(\"Maximum_Old_Balance_ORG\"))\n",
    "agg.show(n = 2)\n",
    "# or can simply do\n",
    "print('Alternate Way..')\n",
    "agg = (agg.withColumnRenamed(\"type\", \"Type\").withColumnRenamed(\"Agg_Sum_Amount\", \"SUM_AMT\").withColumnRenamed(\"Maximum_Old_Balance_ORG\", \"MAX_OLd_BAL\"))\n",
    "agg.show(n = 2)"
   ]
  },
  {
   "cell_type": "code",
   "execution_count": 50,
   "id": "f47d30e3",
   "metadata": {},
   "outputs": [
    {
     "data": {
      "text/plain": [
       "['Type', 'SUM_AMT', 'MAX_OLd_BAL']"
      ]
     },
     "execution_count": 50,
     "metadata": {},
     "output_type": "execute_result"
    }
   ],
   "source": [
    "agg.columns"
   ]
  },
  {
   "cell_type": "markdown",
   "id": "80f9ff48",
   "metadata": {},
   "source": [
    "#### Model Building"
   ]
  },
  {
   "cell_type": "code",
   "execution_count": 51,
   "id": "a7a3e034",
   "metadata": {},
   "outputs": [
    {
     "data": {
      "text/plain": [
       "['step',\n",
       " 'type',\n",
       " 'amount',\n",
       " 'nameOrig',\n",
       " 'oldbalanceOrg',\n",
       " 'newbalanceOrig',\n",
       " 'nameDest',\n",
       " 'oldbalanceDest',\n",
       " 'newbalanceDest',\n",
       " 'isFraud',\n",
       " 'isFlaggedFraud']"
      ]
     },
     "execution_count": 51,
     "metadata": {},
     "output_type": "execute_result"
    }
   ],
   "source": [
    "data.columns"
   ]
  },
  {
   "cell_type": "code",
   "execution_count": 52,
   "id": "b5a6edd4",
   "metadata": {},
   "outputs": [
    {
     "name": "stdout",
     "output_type": "stream",
     "text": [
      "+-----------+-------------------+----------------------+-----------+------------------+----------------------+\n",
      "|   nameOrig|sum(oldbalanceDest)|stddev(newbalanceDest)|avg(amount)|sum(oldbalanceOrg)|stddev(newbalanceOrig)|\n",
      "+-----------+-------------------+----------------------+-----------+------------------+----------------------+\n",
      "|C1305004711|                0.0|                  NULL|    8586.98|            3763.0|                  NULL|\n",
      "|C1016856028|                0.0|                  NULL|    1795.67|        6300966.92|                  NULL|\n",
      "+-----------+-------------------+----------------------+-----------+------------------+----------------------+\n",
      "only showing top 2 rows\n",
      "\n",
      "Shape of the aggregated data : 6353307\n"
     ]
    }
   ],
   "source": [
    "# Some Feature Engineering\n",
    "agg1 = data.groupby('nameOrig').agg({'amount':'avg','oldbalanceOrg':'sum','newbalanceOrig':'stddev',\n",
    "                                     'oldbalanceDest':'sum','newbalanceDest':'stddev'})\n",
    "agg1.show(n = 2)\n",
    "print(f'Shape of the aggregated data : {agg1.count()}')"
   ]
  },
  {
   "cell_type": "code",
   "execution_count": 53,
   "id": "40d5c256",
   "metadata": {},
   "outputs": [
    {
     "name": "stdout",
     "output_type": "stream",
     "text": [
      "+-----------+-------------------+----------------------+-----------+------------------+----------------------+\n",
      "|   nameOrig|sum(oldbalanceDest)|stddev(newbalanceDest)|avg(amount)|sum(oldbalanceOrg)|stddev(newbalanceOrig)|\n",
      "+-----------+-------------------+----------------------+-----------+------------------+----------------------+\n",
      "|C1146819885|          121847.22|    32231.214020824595|   33762.45|           50258.0|    13603.405109280542|\n",
      "|C1154436417|         7291602.02|     5629485.844161115| 203673.835|           99394.0|    62680.151257532874|\n",
      "+-----------+-------------------+----------------------+-----------+------------------+----------------------+\n",
      "only showing top 2 rows\n",
      "\n"
     ]
    }
   ],
   "source": [
    "agg1.filter(\"stddev(newbalanceDest) > 0\").show(2)"
   ]
  },
  {
   "cell_type": "code",
   "execution_count": 54,
   "id": "c17d3a8f",
   "metadata": {},
   "outputs": [
    {
     "name": "stdout",
     "output_type": "stream",
     "text": [
      "+-------+\n",
      "|isFraud|\n",
      "+-------+\n",
      "|      1|\n",
      "|      0|\n",
      "+-------+\n",
      "\n",
      "+--------------+\n",
      "|isFlaggedFraud|\n",
      "+--------------+\n",
      "|             0|\n",
      "|             1|\n",
      "+--------------+\n",
      "\n"
     ]
    }
   ],
   "source": [
    "# getting unique values in columns\n",
    "data.select(\"isFraud\").distinct().show()\n",
    "data.select(\"isFlaggedFraud\").distinct().show()"
   ]
  },
  {
   "cell_type": "code",
   "execution_count": 55,
   "id": "90585813",
   "metadata": {},
   "outputs": [
    {
     "name": "stdout",
     "output_type": "stream",
     "text": [
      "+-------+-------+\n",
      "|isFraud|  count|\n",
      "+-------+-------+\n",
      "|      1|   8213|\n",
      "|      0|6354407|\n",
      "+-------+-------+\n",
      "\n",
      "+--------------+-------+\n",
      "|isFlaggedFraud|  count|\n",
      "+--------------+-------+\n",
      "|             0|6362604|\n",
      "|             1|     16|\n",
      "+--------------+-------+\n",
      "\n"
     ]
    }
   ],
   "source": [
    "# getting value counts in columns\n",
    "data.groupBy(\"isFraud\").count().show()\n",
    "data.groupBy(\"isFlaggedFraud\").count().show()"
   ]
  },
  {
   "cell_type": "code",
   "execution_count": 56,
   "id": "2e5cfe84",
   "metadata": {},
   "outputs": [
    {
     "name": "stdout",
     "output_type": "stream",
     "text": [
      "6353307\n"
     ]
    }
   ],
   "source": [
    "target = data.groupBy('nameOrig').max('isFraud')\n",
    "print(target.count())"
   ]
  },
  {
   "cell_type": "code",
   "execution_count": 57,
   "id": "df939c24",
   "metadata": {},
   "outputs": [
    {
     "name": "stdout",
     "output_type": "stream",
     "text": [
      "Shape of the merged data : 6353307,7\n",
      "+-----------+-------------------+----------------------+-----------+------------------+----------------------+------------+\n",
      "|   nameOrig|sum(oldbalanceDest)|stddev(newbalanceDest)|avg(amount)|sum(oldbalanceOrg)|stddev(newbalanceOrig)|max(isFraud)|\n",
      "+-----------+-------------------+----------------------+-----------+------------------+----------------------+------------+\n",
      "|C1000001337|                0.0|                  NULL|    3170.28|           58089.0|                  NULL|           0|\n",
      "|C1000003615|          935378.26|                  NULL|   49360.77|        1472658.31|                  NULL|           0|\n",
      "+-----------+-------------------+----------------------+-----------+------------------+----------------------+------------+\n",
      "only showing top 2 rows\n",
      "\n"
     ]
    }
   ],
   "source": [
    "# merge flag to aggregated data\n",
    "# Perform inner join\n",
    "merged_df = agg1.join(target, on=\"nameOrig\", how=\"inner\")\n",
    "print(f'Shape of the merged data : {merged_df.count()},{len(merged_df.columns)}')\n",
    "merged_df.show(n = 2)"
   ]
  },
  {
   "cell_type": "code",
   "execution_count": 58,
   "id": "05c26d02",
   "metadata": {},
   "outputs": [
    {
     "name": "stdout",
     "output_type": "stream",
     "text": [
      "+-----------+-------------------+----------------------+-----------+------------------+----------------------+------------+\n",
      "|   nameOrig|sum(oldbalanceDest)|stddev(newbalanceDest)|avg(amount)|sum(oldbalanceOrg)|stddev(newbalanceOrig)|max(isFraud)|\n",
      "+-----------+-------------------+----------------------+-----------+------------------+----------------------+------------+\n",
      "|C1000001337|                0.0|                   0.0|    3170.28|           58089.0|                   0.0|           0|\n",
      "|C1000003615|          935378.26|                   0.0|   49360.77|        1472658.31|                   0.0|           0|\n",
      "+-----------+-------------------+----------------------+-----------+------------------+----------------------+------------+\n",
      "only showing top 2 rows\n",
      "\n"
     ]
    }
   ],
   "source": [
    "# fill null with 0 \n",
    "merged_df = merged_df.na.fill(0)\n",
    "merged_df.show(n = 2)"
   ]
  },
  {
   "cell_type": "code",
   "execution_count": 59,
   "id": "a1485a82",
   "metadata": {},
   "outputs": [],
   "source": [
    "# Let's Build a Random Forest for the Fraud Classification"
   ]
  },
  {
   "cell_type": "code",
   "execution_count": 60,
   "id": "650ca92c",
   "metadata": {},
   "outputs": [],
   "source": [
    "from pyspark.sql import SparkSession\n",
    "from pyspark.ml.feature import VectorAssembler\n",
    "from pyspark.ml.classification import RandomForestClassifier\n",
    "from pyspark.ml.evaluation import MulticlassClassificationEvaluator, BinaryClassificationEvaluator\n"
   ]
  },
  {
   "cell_type": "code",
   "execution_count": 61,
   "id": "16e01ce1",
   "metadata": {},
   "outputs": [],
   "source": [
    "merged_df = merged_df.drop('nameOrig')"
   ]
  },
  {
   "cell_type": "code",
   "execution_count": 62,
   "id": "a3031a78",
   "metadata": {},
   "outputs": [],
   "source": [
    "# Split the data into training and test sets\n",
    "train_data, test_data = merged_df.randomSplit([0.7, 0.3])"
   ]
  },
  {
   "cell_type": "code",
   "execution_count": 63,
   "id": "77e04164",
   "metadata": {},
   "outputs": [],
   "source": [
    "# Define the features vector\n",
    "assembler = VectorAssembler(inputCols = [col for col in merged_df.columns if col != 'max(isFraud)'], outputCol = 'Features')\n",
    "\n",
    "# Transform the data using the features vector\n",
    "train_data = assembler.transform(train_data)\n",
    "test_data = assembler.transform(test_data)"
   ]
  },
  {
   "cell_type": "code",
   "execution_count": 64,
   "id": "02392520",
   "metadata": {},
   "outputs": [
    {
     "name": "stdout",
     "output_type": "stream",
     "text": [
      "+-------------------+----------------------+-----------+------------------+----------------------+------------+--------------------+\n",
      "|sum(oldbalanceDest)|stddev(newbalanceDest)|avg(amount)|sum(oldbalanceOrg)|stddev(newbalanceOrig)|max(isFraud)|            Features|\n",
      "+-------------------+----------------------+-----------+------------------+----------------------+------------+--------------------+\n",
      "|                0.0|                   0.0|       0.02|               0.0|                   0.0|           0|      (5,[2],[0.02])|\n",
      "|                0.0|                   0.0|       0.02|          33192.97|                   0.0|           0|(5,[2,3],[0.02,33...|\n",
      "|                0.0|                   0.0|       0.03|          205196.0|                   0.0|           0|(5,[2,3],[0.03,20...|\n",
      "|                0.0|                   0.0|        0.2|          573881.0|                   0.0|           0|(5,[2,3],[0.2,573...|\n",
      "|                0.0|                   0.0|       0.23|           87207.0|                   0.0|           0|(5,[2,3],[0.23,87...|\n",
      "+-------------------+----------------------+-----------+------------------+----------------------+------------+--------------------+\n",
      "only showing top 5 rows\n",
      "\n"
     ]
    }
   ],
   "source": [
    "train_data.show(n=5)"
   ]
  },
  {
   "cell_type": "code",
   "execution_count": null,
   "id": "d7e60963",
   "metadata": {},
   "outputs": [],
   "source": [
    "# Train a Random Forest classifier\n",
    "rf = RandomForestClassifier(labelCol=\"max(isFraud)\", featuresCol=\"Features\", numTrees=10)\n",
    "model = rf.fit(train_data)"
   ]
  },
  {
   "cell_type": "code",
   "execution_count": null,
   "id": "16656cce",
   "metadata": {},
   "outputs": [],
   "source": [
    "# Make predictions\n",
    "predictions = model.transform(test_data)\n",
    "\n",
    "# Evaluate the model\n",
    "evaluator = MulticlassClassificationEvaluator(labelCol=\"max(isFraud)\", predictionCol=\"prediction\", metricName=\"accuracy\")\n",
    "accuracy = evaluator.evaluate(predictions)\n",
    "print(\"Accuracy:\", accuracy)\n",
    "\n",
    "# Print classification report\n",
    "# print(\"Classification Report:\")\n",
    "# print(predictions.select(\"max(isFraud)\", \"prediction\").show())"
   ]
  },
  {
   "cell_type": "markdown",
   "id": "caac0b13",
   "metadata": {},
   "source": [
    "<img src=\"accuracy-hits-off.gif\" width=\"300\" height=\"300\">"
   ]
  },
  {
   "cell_type": "markdown",
   "id": "1ad9dbf2",
   "metadata": {},
   "source": []
  }
 ],
 "metadata": {
  "kernelspec": {
   "display_name": "Python 3 (ipykernel)",
   "language": "python",
   "name": "python3"
  },
  "language_info": {
   "codemirror_mode": {
    "name": "ipython",
    "version": 3
   },
   "file_extension": ".py",
   "mimetype": "text/x-python",
   "name": "python",
   "nbconvert_exporter": "python",
   "pygments_lexer": "ipython3",
   "version": "3.11.1"
  }
 },
 "nbformat": 4,
 "nbformat_minor": 5
}
